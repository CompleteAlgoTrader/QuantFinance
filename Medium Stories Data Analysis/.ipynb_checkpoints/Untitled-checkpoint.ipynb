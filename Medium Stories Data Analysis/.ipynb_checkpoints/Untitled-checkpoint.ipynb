{
 "cells": [
  {
   "cell_type": "markdown",
   "id": "670f922e",
   "metadata": {},
   "source": []
  },
  {
   "cell_type": "code",
   "execution_count": 27,
   "id": "0582992d",
   "metadata": {
    "scrolled": true
   },
   "outputs": [
    {
     "name": "stdout",
     "output_type": "stream",
     "text": [
      "                                               Titles   Published  \\\n",
      "0   6 Resources to Jumpstart Your Trading Career W...  2021-09-07   \n",
      "1          6 QuantConnect Back-Testing Beginner Steps  2021-09-13   \n",
      "2   Cut Your Trading Losses in 5 Steps on QuantCon...  2021-09-17   \n",
      "3   How To Minimize Risk and Maximize Profits with...  2021-09-22   \n",
      "4   Start Analyzing Your Investment Risks With 4 F...  2021-09-24   \n",
      "5   5 Resources I Studied to Learn About Quantitat...  2021-09-26   \n",
      "6   What is the Best Portfolio Optimization Method...  2021-10-03   \n",
      "7   Here’s 5 Sources I Referenced While Learning P...  2021-10-03   \n",
      "8   Diversify Your Risk Exposure With Factor Inves...  2021-10-11   \n",
      "9   Become an Expert Factor Investor With These 5 ...  2021-10-12   \n",
      "10  Prepare Yourself for the Next Black Swan Event...  2021-10-18   \n",
      "\n",
      "    Internal Views  External Views  Earnings Member Reading Time  \\\n",
      "0               52             101      1.31            00:51:23   \n",
      "1               31              79      0.96            00:28:04   \n",
      "2               72              46      1.57            00:43:39   \n",
      "3              168             102      6.70            03:26:00   \n",
      "4              455             214     21.21            08:46:00   \n",
      "5              326             115     11.44            05:37:00   \n",
      "6              617             583     33.45            17:23:00   \n",
      "7              240              69      8.14            03:36:00   \n",
      "8              147              57      8.03            05:36:00   \n",
      "9              130              52      2.77            01:56:00   \n",
      "10             208              32      5.14            04:10:00   \n",
      "\n",
      "   Avg Reading Time  \n",
      "0          00:02:49  \n",
      "1          00:04:48  \n",
      "2          00:02:39  \n",
      "3          00:03:09  \n",
      "4          00:03:13  \n",
      "5          00:02:07  \n",
      "6          00:04:52  \n",
      "7          00:02:12  \n",
      "8          00:06:27  \n",
      "9          00:02:05  \n",
      "10         00:03:08  \n"
     ]
    }
   ],
   "source": [
    "import pandas as pd\n",
    "from datetime import date, time\n",
    "\n",
    "medium_data = pd.DataFrame()\n",
    "medium_data['Titles'] = ['6 Resources to Jumpstart Your Trading Career With QuantConnect — QuantConnect 101', \n",
    "                         '6 QuantConnect Back-Testing Beginner Steps',\n",
    "                        'Cut Your Trading Losses in 5 Steps on QuantConnect',\n",
    "                        'How To Minimize Risk and Maximize Profits with Mean-Variance Optimization',\n",
    "                        'Start Analyzing Your Investment Risks With 4 Fundamentals of Financial Statistics',\n",
    "                        '5 Resources I Studied to Learn About Quantitative Finance This Week',\n",
    "                        'What is the Best Portfolio Optimization Method for You?',\n",
    "                        'Here’s 5 Sources I Referenced While Learning Portfolio Management This Week',\n",
    "                        'Diversify Your Risk Exposure With Factor Investing',\n",
    "                        'Become an Expert Factor Investor With These 5 Resources',\n",
    "                        'Prepare Yourself for the Next Black Swan Event With Tail Risk Analysis']\n",
    "medium_data['Published'] = [date(2021, 9, 7), date(2021, 9, 13), date(2021, 9, 17), date(2021, 9, 22), date(2021, 9, 24), date(2021, 9, 26), \n",
    "                            date(2021, 10, 3), date(2021, 10, 3), date(2021, 10, 11), date(2021, 10, 12), date(2021, 10, 18)]\n",
    "medium_data['Internal Views'] = [52, 31, 72, 168, 455, 326, 617, 240, 147, 130, 208]\n",
    "medium_data['External Views'] = [101, 79, 46, 102, 214, 115, 583, 69, 57, 52, 32]\n",
    "medium_data['Earnings'] = [1.31, 0.96, 1.57, 6.70, 21.21, 11.44, 33.45, 8.14, 8.03, 2.77, 5.14]\n",
    "medium_data['Member Reading Time'] = [time(0,51,23,0), time(0,28,4,0), time(0,43,39,0), time(3,26,0,0), time(8,46,0,0), time(5,37,0,0), time(17, 23, 0, 0), time(3,36,0,0), time (5,36,0,0), time(1,56,0,0), time(4,10,0,0)]\n",
    "medium_data['Avg Reading Time'] = [time(0,2,49,0), time(0,4,48,0), time(0,2,39,0), time(0,3,9,0), time(0,3,13,0), time(0,2,7,0), time(0,4,52,0), time(0,2,12,0), time(0,6,27,0), time(0,2,5,0), time(0,3,8,0)]\n",
    "print(medium_data)"
   ]
  },
  {
   "cell_type": "code",
   "execution_count": 28,
   "id": "80ec83a9",
   "metadata": {},
   "outputs": [
    {
     "name": "stdout",
     "output_type": "stream",
     "text": [
      "9.156363636363636\n"
     ]
    }
   ],
   "source": [
    "print(medium_data['Earnings'].mean())"
   ]
  }
 ],
 "metadata": {
  "kernelspec": {
   "display_name": "Python 3",
   "language": "python",
   "name": "python3"
  },
  "language_info": {
   "codemirror_mode": {
    "name": "ipython",
    "version": 3
   },
   "file_extension": ".py",
   "mimetype": "text/x-python",
   "name": "python",
   "nbconvert_exporter": "python",
   "pygments_lexer": "ipython3",
   "version": "3.8.8"
  }
 },
 "nbformat": 4,
 "nbformat_minor": 5
}
